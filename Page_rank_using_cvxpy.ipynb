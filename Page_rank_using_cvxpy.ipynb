{
 "cells": [
  {
   "cell_type": "code",
   "execution_count": 132,
   "metadata": {
    "collapsed": true
   },
   "outputs": [],
   "source": [
    "import numpy as np\n",
    "import cvxpy as cp"
   ]
  },
  {
   "cell_type": "code",
   "execution_count": 133,
   "metadata": {
    "collapsed": true
   },
   "outputs": [],
   "source": [
    "#initial link matrix\n",
    "P_link = np.array([[0, 1, 1, 0, 0, 0], \n",
    "                   [0, 0, 0, 0, 0, 0], \n",
    "                   [1, 1, 0, 0, 1, 0], \n",
    "                   [0, 0, 0, 0, 1, 1], \n",
    "                   [0, 0, 0, 1, 0, 1], \n",
    "                   [0, 0, 0, 1, 0, 0]])"
   ]
  },
  {
   "cell_type": "code",
   "execution_count": 134,
   "metadata": {},
   "outputs": [],
   "source": [
    "zero_ind = np.where(~P_link.any(axis=1))[0]"
   ]
  },
  {
   "cell_type": "code",
   "execution_count": 135,
   "metadata": {
    "collapsed": true
   },
   "outputs": [],
   "source": [
    "nzero = []\n",
    "for i in range(len(P_link)):\n",
    "    nzero.append(np.nonzero(P_link[i]))"
   ]
  },
  {
   "cell_type": "code",
   "execution_count": 136,
   "metadata": {},
   "outputs": [],
   "source": [
    "P_s = []\n",
    "length = len(P_link)\n",
    "for i in range(length):\n",
    "    if i in zero_ind:\n",
    "        row = np.ones((1,length))/length\n",
    "        P_s.append(row[0])\n",
    "    else:\n",
    "        _,q = np.shape(nzero[i])\n",
    "        P_s.append(P_link[i]/q)"
   ]
  },
  {
   "cell_type": "code",
   "execution_count": 137,
   "metadata": {},
   "outputs": [],
   "source": [
    "P_stochastic = [P_s[i].tolist() for i in range(length)]\n",
    "P_stochastic = np.array(P_stochastic)"
   ]
  },
  {
   "cell_type": "code",
   "execution_count": 138,
   "metadata": {
    "collapsed": true
   },
   "outputs": [],
   "source": [
    "alpha = 0.9\n",
    "m,n = np.shape(P_stochastic)\n",
    "e = np.ones((n,1))"
   ]
  },
  {
   "cell_type": "code",
   "execution_count": 139,
   "metadata": {},
   "outputs": [],
   "source": [
    "P = alpha* P_stochastic + (1-alpha) * e @ e.T/n"
   ]
  },
  {
   "cell_type": "code",
   "execution_count": 140,
   "metadata": {},
   "outputs": [],
   "source": [
    "x = cp.Variable(n)\n",
    "objective = cp.Minimize(cp.sum_entries(cp.abs(x)))\n",
    "constraints = [np.transpose(P) @ x == x, sum(x) == 1, x >= 0]"
   ]
  },
  {
   "cell_type": "code",
   "execution_count": 141,
   "metadata": {
    "collapsed": true
   },
   "outputs": [],
   "source": [
    "prob = cp.Problem(objective, constraints)\n",
    "result = prob.solve()"
   ]
  },
  {
   "cell_type": "code",
   "execution_count": 150,
   "metadata": {
    "collapsed": true
   },
   "outputs": [],
   "source": [
    "page_rank = x.value"
   ]
  },
  {
   "cell_type": "code",
   "execution_count": 148,
   "metadata": {},
   "outputs": [
    {
     "name": "stdout",
     "output_type": "stream",
     "text": [
      "Page rank of each page\n",
      "\n",
      "Page  0 : Rank =  [[0.03721197]]\n",
      "Page  1 : Rank =  [[0.05395735]]\n",
      "Page  2 : Rank =  [[0.04150565]]\n",
      "Page  3 : Rank =  [[0.37508082]]\n",
      "Page  4 : Rank =  [[0.20599833]]\n",
      "Page  5 : Rank =  [[0.28624589]]\n"
     ]
    }
   ],
   "source": [
    "print(\"Page rank of each page\\n\")\n",
    "for i in range(len(page_rank)):\n",
    "    print(\"Page \",i, \": Rank = \", page_rank[i])"
   ]
  },
  {
   "cell_type": "code",
   "execution_count": null,
   "metadata": {
    "collapsed": true
   },
   "outputs": [],
   "source": []
  }
 ],
 "metadata": {
  "kernelspec": {
   "display_name": "Python 3",
   "language": "python",
   "name": "python3"
  },
  "language_info": {
   "codemirror_mode": {
    "name": "ipython",
    "version": 3
   },
   "file_extension": ".py",
   "mimetype": "text/x-python",
   "name": "python",
   "nbconvert_exporter": "python",
   "pygments_lexer": "ipython3",
   "version": "3.5.2"
  }
 },
 "nbformat": 4,
 "nbformat_minor": 2
}
